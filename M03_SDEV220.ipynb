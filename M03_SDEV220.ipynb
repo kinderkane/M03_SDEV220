{
 "cells": [
  {
   "cell_type": "markdown",
   "id": "f45c0e31",
   "metadata": {},
   "source": [
    "#  7.4 - 7.6"
   ]
  },
  {
   "cell_type": "code",
   "execution_count": 3,
   "id": "421531df",
   "metadata": {},
   "outputs": [
    {
     "name": "stdout",
     "output_type": "stream",
     "text": [
      "['mozzarella', 'cinderella', 'salmonella']\n"
     ]
    }
   ],
   "source": [
    "things=[\"mozzarella\", \"cinderella\", \"salmonella\"]\n",
    "print(things)"
   ]
  },
  {
   "cell_type": "code",
   "execution_count": 14,
   "id": "970d5ec8",
   "metadata": {},
   "outputs": [],
   "source": [
    "things[1]=things[1].capitalize()"
   ]
  },
  {
   "cell_type": "code",
   "execution_count": 12,
   "id": "86e305b6",
   "metadata": {},
   "outputs": [],
   "source": [
    "things[0]=things[0].upper()"
   ]
  },
  {
   "cell_type": "code",
   "execution_count": 15,
   "id": "50458a1c",
   "metadata": {},
   "outputs": [
    {
     "name": "stdout",
     "output_type": "stream",
     "text": [
      "['MOZZARELLA', 'Cinderella', 'salmonella']\n"
     ]
    }
   ],
   "source": [
    "print(things)"
   ]
  },
  {
   "cell_type": "markdown",
   "id": "c1f0f7bd",
   "metadata": {},
   "source": [
    "#  9.1 - 9.2"
   ]
  },
  {
   "cell_type": "code",
   "execution_count": 17,
   "id": "f84973bc",
   "metadata": {},
   "outputs": [
    {
     "name": "stdout",
     "output_type": "stream",
     "text": [
      "['Harry', 'Ron', 'Hermione']\n"
     ]
    }
   ],
   "source": [
    "def good():\n",
    "    return ['Harry', 'Ron', 'Hermione']\n",
    "print(good())"
   ]
  },
  {
   "cell_type": "code",
   "execution_count": 19,
   "id": "80537285",
   "metadata": {},
   "outputs": [
    {
     "name": "stdout",
     "output_type": "stream",
     "text": [
      "5\n"
     ]
    }
   ],
   "source": [
    "limit = 10\n",
    "get_odds = (num for num in range(limit) if not num % 2 == 0)\n",
    "count = 0\n",
    "for num in get_odds:\n",
    "    if count == 2:\n",
    "        print(num)\n",
    "        break\n",
    "    count += 1"
   ]
  }
 ],
 "metadata": {
  "kernelspec": {
   "display_name": "Python 3 (ipykernel)",
   "language": "python",
   "name": "python3"
  },
  "language_info": {
   "codemirror_mode": {
    "name": "ipython",
    "version": 3
   },
   "file_extension": ".py",
   "mimetype": "text/x-python",
   "name": "python",
   "nbconvert_exporter": "python",
   "pygments_lexer": "ipython3",
   "version": "3.9.13"
  }
 },
 "nbformat": 4,
 "nbformat_minor": 5
}
